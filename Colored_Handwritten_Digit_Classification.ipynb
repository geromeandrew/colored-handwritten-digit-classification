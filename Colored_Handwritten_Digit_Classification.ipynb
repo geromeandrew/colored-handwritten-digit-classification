{
  "cells": [
    {
      "cell_type": "markdown",
      "metadata": {
        "id": "jKIdV8hoVX5F"
      },
      "source": [
        "# Colored Handwritten Digit Classification\n",
        "A deep learning model based on CNN that recognizes handwritten digits as well as its color."
      ]
    },
    {
      "cell_type": "code",
      "execution_count": 55,
      "metadata": {
        "id": "JM_cJ0ayVX5M"
      },
      "outputs": [],
      "source": [
        "import tensorflow as tf\n",
        "import numpy as np\n",
        "import matplotlib.pyplot as plt"
      ]
    },
    {
      "cell_type": "markdown",
      "metadata": {
        "id": "QiIPp2H0VX5N"
      },
      "source": [
        "## Load the data"
      ]
    },
    {
      "cell_type": "code",
      "execution_count": 27,
      "metadata": {},
      "outputs": [],
      "source": [
        "(xtrain, ytrain), (xtest, ytest) = tf.keras.datasets.mnist.load_data()"
      ]
    },
    {
      "cell_type": "markdown",
      "metadata": {},
      "source": [
        "## Colorize the data"
      ]
    },
    {
      "cell_type": "code",
      "execution_count": 57,
      "metadata": {
        "id": "QovZqtGiVX5P"
      },
      "outputs": [],
      "source": [
        "# function to modify the mnist data set to be either color red or green\n",
        "def colorize_data(x, y):\n",
        "    c = np.random.randint(0, 2)\n",
        "    image = 0.5 * np.random.rand(28, 28, 3)\n",
        "    image[:, :, c] += 0.5 * x/255.0\n",
        "    return image, y, c"
      ]
    },
    {
      "cell_type": "code",
      "execution_count": 58,
      "metadata": {
        "id": "8RZZS1NoVX5P"
      },
      "outputs": [
        {
          "name": "stdout",
          "output_type": "stream",
          "text": [
            "label: 4 color: green\n"
          ]
        },
        {
          "data": {
            "image/png": "[encoded data removed]",
            "text/plain": [
              "<Figure size 432x288 with 1 Axes>"
            ]
          },
          "metadata": {
            "needs_background": "light"
          },
          "output_type": "display_data"
        }
      ],
      "source": [
        "# show a sample of the colorized data\n",
        "colors = {0: 'red', 1: 'green'}\n",
        "x, y, c = colorize_data(xtrain[2], ytrain[2])\n",
        "print(f'label: {y} color: {colors[c]}')\n",
        "plt.imshow(x)\n",
        "plt.show()"
      ]
    },
    {
      "cell_type": "markdown",
      "metadata": {
        "id": "bzzPlFteVX5Q"
      },
      "source": [
        "## Generate the dataset"
      ]
    },
    {
      "cell_type": "code",
      "execution_count": 59,
      "metadata": {
        "id": "FflkdksnVX5R"
      },
      "outputs": [],
      "source": [
        "def generate_data(x, y, batch_size=32):\n",
        "    num_examples = len(y)\n",
        "\n",
        "    while True:\n",
        "        x_batch = np.zeros((batch_size, 28, 28, 3))\n",
        "        y_batch = np.zeros((batch_size,))\n",
        "        c_batch = np.zeros((batch_size,))\n",
        "\n",
        "        for i in range(0, batch_size):\n",
        "            index = np.random.randint(0, num_examples)\n",
        "            image, label, color = colorize_data(x[index], y[index])\n",
        "            x_batch[i] = image\n",
        "            y_batch[i] = label\n",
        "            c_batch[i] = color\n",
        "\n",
        "        yield x_batch, [y_batch, c_batch]"
      ]
    },
    {
      "cell_type": "code",
      "execution_count": 60,
      "metadata": {},
      "outputs": [],
      "source": [
        "x, [y, c] = next(generate_data(xtrain, ytrain, 2))"
      ]
    },
    {
      "cell_type": "code",
      "execution_count": 61,
      "metadata": {},
      "outputs": [
        {
          "name": "stdout",
          "output_type": "stream",
          "text": [
            "1.0, 1.0\n"
          ]
        },
        {
          "data": {
            "image/png": "[encoded data removed]",
            "text/plain": [
              "<Figure size 432x288 with 1 Axes>"
            ]
          },
          "metadata": {
            "needs_background": "light"
          },
          "output_type": "display_data"
        }
      ],
      "source": [
        "print(f'{y[1]}, {c[1]}')\n",
        "plt.imshow(x[1])\n",
        "plt.show()"
      ]
    },
    {
      "cell_type": "code",
      "execution_count": 66,
      "metadata": {
        "id": "q92Hm71DVX5V"
      },
      "outputs": [],
      "source": [
        "train_gen = generate_data(xtrain, ytrain)\n",
        "val_gen = generate_data(xtest, ytest)"
      ]
    },
    {
      "cell_type": "markdown",
      "metadata": {
        "id": "yQDBRzzoVX5R"
      },
      "source": [
        "## Create the Model"
      ]
    },
    {
      "cell_type": "code",
      "execution_count": 62,
      "metadata": {
        "id": "TJJ9Bj86VX5R"
      },
      "outputs": [],
      "source": [
        "input_layer = tf.keras.layers.Input(shape=(28, 28, 3), name='input')\n",
        "conv1 = tf.keras.layers.Conv2D(32, (3, 3), activation='relu', name='conv1')(input_layer)\n",
        "pool1 = tf.keras.layers.MaxPooling2D(4, 4, name='pool1')(conv1)\n",
        "flatten1 = tf.keras.layers.Flatten(name='flatten1')(pool1)\n",
        "color = tf.keras.layers.Dense(1, activation='sigmoid', name='color_output')(flatten1)\n",
        "\n",
        "conv2 = tf.keras.layers.Conv2D(32, (3, 3), activation='relu', name='conv2')(pool1)\n",
        "pool2 = tf.keras.layers.MaxPooling2D(2, 2, name='pool2')(conv2)\n",
        "\n",
        "flatten2 = tf.keras.layers.Flatten(name='flatten2')(pool2)\n",
        "digit = tf.keras.layers.Dense(10, activation='softmax', name='digit_output')(flatten2)\n",
        "\n",
        "model = tf.keras.models.Model(input_layer, [digit, color])"
      ]
    },
    {
      "cell_type": "code",
      "execution_count": 63,
      "metadata": {
        "id": "agtm1bq3VX5T"
      },
      "outputs": [],
      "source": [
        "model.compile(loss={\n",
        "    'digit_output': 'sparse_categorical_crossentropy',\n",
        "    'color_output': 'binary_crossentropy'},\n",
        "    optimizer='adam',\n",
        "    metrics=['accuracy']\n",
        "    )"
      ]
    },
    {
      "cell_type": "code",
      "execution_count": 64,
      "metadata": {},
      "outputs": [
        {
          "name": "stdout",
          "output_type": "stream",
          "text": [
            "Model: \"model_2\"\n",
            "__________________________________________________________________________________________________\n",
            " Layer (type)                   Output Shape         Param #     Connected to                     \n",
            "==================================================================================================\n",
            " input (InputLayer)             [(None, 28, 28, 3)]  0           []                               \n",
            "                                                                                                  \n",
            " conv1 (Conv2D)                 (None, 26, 26, 32)   896         ['input[0][0]']                  \n",
            "                                                                                                  \n",
            " pool1 (MaxPooling2D)           (None, 6, 6, 32)     0           ['conv1[0][0]']                  \n",
            "                                                                                                  \n",
            " conv2 (Conv2D)                 (None, 4, 4, 32)     9248        ['pool1[0][0]']                  \n",
            "                                                                                                  \n",
            " pool2 (MaxPooling2D)           (None, 2, 2, 32)     0           ['conv2[0][0]']                  \n",
            "                                                                                                  \n",
            " flatten2 (Flatten)             (None, 128)          0           ['pool2[0][0]']                  \n",
            "                                                                                                  \n",
            " flatten1 (Flatten)             (None, 1152)         0           ['pool1[0][0]']                  \n",
            "                                                                                                  \n",
            " digit_output (Dense)           (None, 10)           1290        ['flatten2[0][0]']               \n",
            "                                                                                                  \n",
            " color_output (Dense)           (None, 1)            1153        ['flatten1[0][0]']               \n",
            "                                                                                                  \n",
            "==================================================================================================\n",
            "Total params: 12,587\n",
            "Trainable params: 12,587\n",
            "Non-trainable params: 0\n",
            "__________________________________________________________________________________________________\n"
          ]
        },
        {
          "data": {
            "image/png": "[encoded data removed]",
            "text/plain": [
              "<IPython.core.display.Image object>"
            ]
          },
          "execution_count": 64,
          "metadata": {},
          "output_type": "execute_result"
        }
      ],
      "source": [
        "model.summary()\n",
        "tf.keras.utils.plot_model(model, show_shapes=True, show_layer_activations=True)"
      ]
    },
    {
      "cell_type": "markdown",
      "metadata": {
        "id": "Aa6yAsj-VX5U"
      },
      "source": [
        "## Task 5: Training the Model"
      ]
    },
    {
      "cell_type": "code",
      "execution_count": 65,
      "metadata": {
        "id": "hDEFFWKGVX5U"
      },
      "outputs": [],
      "source": [
        "class Logger(tf.keras.callbacks.Callback):\n",
        "  def on_epoch_end(self, epoch, logs=None):\n",
        "    digit_accuracy = logs.get('digit_output_accuracy')\n",
        "    color_accuracy = logs.get('color_output_accuracy')\n",
        "    val_digit_accuracy = logs.get('val_digit_output_accuracy')\n",
        "    val_color_accuracy = logs.get('val_color_output_accuracy')\n",
        "    print('='*30, epoch + 1, '='*30)\n",
        "    print(f'digit_accuracy: {digit_accuracy:.2f}, color_accuracy: {color_accuracy:.2f}')\n",
        "    print(f'val_digit_accuracy: {val_digit_accuracy:.2f}, val_color_accuracy: {val_color_accuracy:.2f}')"
      ]
    },
    {
      "cell_type": "code",
      "execution_count": 67,
      "metadata": {},
      "outputs": [
        {
          "name": "stdout",
          "output_type": "stream",
          "text": [
            "Epoch 1/10\n",
            "200/200 [==============================] - ETA: 0s - loss: 2.3683 - digit_output_loss: 2.1935 - color_output_loss: 0.1748 - digit_output_accuracy: 0.2520 - color_output_accuracy: 0.9702============================== 1 ==============================\n",
            "digit_accuracy: 0.25, color_accuracy: 0.97\n",
            "val_digit_accuracy: 0.46, val_color_accuracy: 1.00\n",
            "200/200 [==============================] - 6s 24ms/step - loss: 2.3683 - digit_output_loss: 2.1935 - color_output_loss: 0.1748 - digit_output_accuracy: 0.2520 - color_output_accuracy: 0.9702 - val_loss: 1.9127 - val_digit_output_loss: 1.9068 - val_color_output_loss: 0.0059 - val_digit_output_accuracy: 0.4619 - val_color_output_accuracy: 1.0000\n",
            "Epoch 2/10\n",
            "200/200 [==============================] - ETA: 0s - loss: 1.4344 - digit_output_loss: 1.4327 - color_output_loss: 0.0017 - digit_output_accuracy: 0.5695 - color_output_accuracy: 1.0000============================== 2 ==============================\n",
            "digit_accuracy: 0.57, color_accuracy: 1.00\n",
            "val_digit_accuracy: 0.67, val_color_accuracy: 1.00\n",
            "200/200 [==============================] - 4s 21ms/step - loss: 1.4344 - digit_output_loss: 1.4327 - color_output_loss: 0.0017 - digit_output_accuracy: 0.5695 - color_output_accuracy: 1.0000 - val_loss: 1.0551 - val_digit_output_loss: 1.0547 - val_color_output_loss: 3.7831e-04 - val_digit_output_accuracy: 0.6744 - val_color_output_accuracy: 1.0000\n",
            "Epoch 3/10\n",
            "197/200 [============================>.] - ETA: 0s - loss: 0.9636 - digit_output_loss: 0.9634 - color_output_loss: 2.2262e-04 - digit_output_accuracy: 0.6872 - color_output_accuracy: 1.0000============================== 3 ==============================\n",
            "digit_accuracy: 0.69, color_accuracy: 1.00\n",
            "val_digit_accuracy: 0.76, val_color_accuracy: 1.00\n",
            "200/200 [==============================] - 4s 21ms/step - loss: 0.9636 - digit_output_loss: 0.9634 - color_output_loss: 2.2419e-04 - digit_output_accuracy: 0.6869 - color_output_accuracy: 1.0000 - val_loss: 0.8069 - val_digit_output_loss: 0.8067 - val_color_output_loss: 1.4626e-04 - val_digit_output_accuracy: 0.7600 - val_color_output_accuracy: 1.0000\n",
            "Epoch 4/10\n",
            "197/200 [============================>.] - ETA: 0s - loss: 0.7651 - digit_output_loss: 0.7649 - color_output_loss: 1.4850e-04 - digit_output_accuracy: 0.7592 - color_output_accuracy: 1.0000============================== 4 ==============================\n",
            "digit_accuracy: 0.76, color_accuracy: 1.00\n",
            "val_digit_accuracy: 0.79, val_color_accuracy: 1.00\n",
            "200/200 [==============================] - 4s 20ms/step - loss: 0.7645 - digit_output_loss: 0.7643 - color_output_loss: 1.4807e-04 - digit_output_accuracy: 0.7595 - color_output_accuracy: 1.0000 - val_loss: 0.6755 - val_digit_output_loss: 0.6753 - val_color_output_loss: 1.3441e-04 - val_digit_output_accuracy: 0.7856 - val_color_output_accuracy: 1.0000\n",
            "Epoch 5/10\n",
            "197/200 [============================>.] - ETA: 0s - loss: 0.7257 - digit_output_loss: 0.7256 - color_output_loss: 7.3611e-05 - digit_output_accuracy: 0.7684 - color_output_accuracy: 1.0000============================== 5 ==============================\n",
            "digit_accuracy: 0.77, color_accuracy: 1.00\n",
            "val_digit_accuracy: 0.80, val_color_accuracy: 1.00\n",
            "200/200 [==============================] - 4s 20ms/step - loss: 0.7237 - digit_output_loss: 0.7236 - color_output_loss: 7.3840e-05 - digit_output_accuracy: 0.7691 - color_output_accuracy: 1.0000 - val_loss: 0.6250 - val_digit_output_loss: 0.6249 - val_color_output_loss: 1.1592e-04 - val_digit_output_accuracy: 0.8022 - val_color_output_accuracy: 1.0000\n",
            "Epoch 6/10\n",
            "198/200 [============================>.] - ETA: 0s - loss: 0.6495 - digit_output_loss: 0.6494 - color_output_loss: 6.6698e-05 - digit_output_accuracy: 0.7896 - color_output_accuracy: 1.0000============================== 6 ==============================\n",
            "digit_accuracy: 0.79, color_accuracy: 1.00\n",
            "val_digit_accuracy: 0.83, val_color_accuracy: 1.00\n",
            "200/200 [==============================] - 4s 20ms/step - loss: 0.6510 - digit_output_loss: 0.6509 - color_output_loss: 6.7624e-05 - digit_output_accuracy: 0.7884 - color_output_accuracy: 1.0000 - val_loss: 0.5632 - val_digit_output_loss: 0.5632 - val_color_output_loss: 4.8523e-05 - val_digit_output_accuracy: 0.8281 - val_color_output_accuracy: 1.0000\n",
            "Epoch 7/10\n",
            "200/200 [==============================] - ETA: 0s - loss: 0.5681 - digit_output_loss: 0.5681 - color_output_loss: 5.6030e-05 - digit_output_accuracy: 0.8258 - color_output_accuracy: 1.0000============================== 7 ==============================\n",
            "digit_accuracy: 0.83, color_accuracy: 1.00\n",
            "val_digit_accuracy: 0.84, val_color_accuracy: 1.00\n",
            "200/200 [==============================] - 5s 23ms/step - loss: 0.5681 - digit_output_loss: 0.5681 - color_output_loss: 5.6030e-05 - digit_output_accuracy: 0.8258 - color_output_accuracy: 1.0000 - val_loss: 0.5226 - val_digit_output_loss: 0.5225 - val_color_output_loss: 4.7755e-05 - val_digit_output_accuracy: 0.8397 - val_color_output_accuracy: 1.0000\n",
            "Epoch 8/10\n",
            "200/200 [==============================] - ETA: 0s - loss: 0.5560 - digit_output_loss: 0.5559 - color_output_loss: 4.2042e-05 - digit_output_accuracy: 0.8244 - color_output_accuracy: 1.0000============================== 8 ==============================\n",
            "digit_accuracy: 0.82, color_accuracy: 1.00\n",
            "val_digit_accuracy: 0.84, val_color_accuracy: 1.00\n",
            "200/200 [==============================] - 8s 40ms/step - loss: 0.5560 - digit_output_loss: 0.5559 - color_output_loss: 4.2042e-05 - digit_output_accuracy: 0.8244 - color_output_accuracy: 1.0000 - val_loss: 0.5261 - val_digit_output_loss: 0.5261 - val_color_output_loss: 5.8438e-05 - val_digit_output_accuracy: 0.8366 - val_color_output_accuracy: 1.0000\n",
            "Epoch 9/10\n",
            "198/200 [============================>.] - ETA: 0s - loss: 0.5207 - digit_output_loss: 0.5206 - color_output_loss: 6.5738e-05 - digit_output_accuracy: 0.8330 - color_output_accuracy: 1.0000============================== 9 ==============================\n",
            "digit_accuracy: 0.83, color_accuracy: 1.00\n",
            "val_digit_accuracy: 0.83, val_color_accuracy: 1.00\n",
            "200/200 [==============================] - 9s 43ms/step - loss: 0.5216 - digit_output_loss: 0.5216 - color_output_loss: 6.6114e-05 - digit_output_accuracy: 0.8327 - color_output_accuracy: 1.0000 - val_loss: 0.5213 - val_digit_output_loss: 0.5213 - val_color_output_loss: 5.6664e-05 - val_digit_output_accuracy: 0.8331 - val_color_output_accuracy: 1.0000\n",
            "Epoch 10/10\n",
            "199/200 [============================>.] - ETA: 0s - loss: 0.4908 - digit_output_loss: 0.4908 - color_output_loss: 4.1723e-05 - digit_output_accuracy: 0.8416 - color_output_accuracy: 1.0000============================== 10 ==============================\n",
            "digit_accuracy: 0.84, color_accuracy: 1.00\n",
            "val_digit_accuracy: 0.87, val_color_accuracy: 1.00\n",
            "200/200 [==============================] - 6s 28ms/step - loss: 0.4903 - digit_output_loss: 0.4903 - color_output_loss: 4.2141e-05 - digit_output_accuracy: 0.8419 - color_output_accuracy: 1.0000 - val_loss: 0.4386 - val_digit_output_loss: 0.4386 - val_color_output_loss: 2.5635e-05 - val_digit_output_accuracy: 0.8691 - val_color_output_accuracy: 1.0000\n"
          ]
        },
        {
          "data": {
            "text/plain": [
              "<keras.callbacks.History at 0x21aded898d0>"
            ]
          },
          "execution_count": 67,
          "metadata": {},
          "output_type": "execute_result"
        }
      ],
      "source": [
        "model.fit(\n",
        "    train_gen,\n",
        "    validation_data=val_gen,\n",
        "    epochs=10,\n",
        "    steps_per_epoch=200,\n",
        "    validation_steps=100,\n",
        "    callbacks=[Logger(), tf.keras.callbacks.TensorBoard(log_dir='./logs')]\n",
        "    \n",
        ")"
      ]
    },
    {
      "cell_type": "markdown",
      "metadata": {
        "id": "SatoHJXuVX5V"
      },
      "source": [
        "## Predictions using the model"
      ]
    },
    {
      "cell_type": "code",
      "execution_count": 72,
      "metadata": {
        "id": "FB2VxmrpVX5V"
      },
      "outputs": [],
      "source": [
        "def test_model(show=True):\n",
        "  x, [y, c] = next(test)\n",
        "\n",
        "  preds = model.predict(x)\n",
        "  pred_digit = np.argmax(preds[0])\n",
        "  pred_color = int(preds[1] > 0.5)\n",
        "  gt_digit = int(y[0])\n",
        "  gt_color = int(c[0])\n",
        "\n",
        "  plt.imshow(x[0])\n",
        "  if show:\n",
        "    print(f'GT: {gt_digit}, {colors[gt_color]}')\n",
        "    print(f'Pr: {pred_digit}, {colors[pred_color]}')\n",
        "    plt.show()\n",
        "  else:\n",
        "    col = 'green' if gt_digit == pred_digit and gt_color == pred_color else 'red'\n",
        "    plt.ylabel(f'GT: {gt_digit}, {colors[gt_color]}', color=col)\n",
        "    plt.xlabel(f'Pr: {pred_digit}, {colors[pred_color]}', color=col)\n",
        "    plt.xticks([])\n",
        "    plt.yticks([])\n",
        "\n",
        "\n",
        "test = generate_data(xtest, ytest, batch_size=1)"
      ]
    },
    {
      "cell_type": "code",
      "execution_count": 73,
      "metadata": {
        "id": "TosHWUfsVX5V"
      },
      "outputs": [
        {
          "name": "stdout",
          "output_type": "stream",
          "text": [
            "1/1 [==============================] - 0s 70ms/step\n",
            "GT: 3, red\n",
            "Pr: 3, red\n"
          ]
        },
        {
          "data": {
            "image/png": "[encoded data removed]",
            "text/plain": [
              "<Figure size 432x288 with 1 Axes>"
            ]
          },
          "metadata": {
            "needs_background": "light"
          },
          "output_type": "display_data"
        }
      ],
      "source": [
        "test_model()"
      ]
    },
    {
      "cell_type": "code",
      "execution_count": null,
      "metadata": {
        "id": "7EG78TwdVX5W"
      },
      "outputs": [],
      "source": []
    }
  ],
  "metadata": {
    "accelerator": "GPU",
    "colab": {
      "provenance": []
    },
    "kernelspec": {
      "display_name": "Python 3",
      "language": "python",
      "name": "python3"
    },
    "language_info": {
      "codemirror_mode": {
        "name": "ipython",
        "version": 3
      },
      "file_extension": ".py",
      "mimetype": "text/x-python",
      "name": "python",
      "nbconvert_exporter": "python",
      "pygments_lexer": "ipython3",
      "version": "3.10.4"
    }
  },
  "nbformat": 4,
  "nbformat_minor": 0
}
